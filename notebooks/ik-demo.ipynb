{
 "cells": [
  {
   "cell_type": "markdown",
   "metadata": {},
   "source": [
    "# Introduction to Python Data Structures and Functional Programming in Drone Fleet Management\n",
    "\n",
    "Welcome to this interactive Jupyter notebook, designed to provide a hands-on learning experience with Python's data structures and functional programming tools, specifically tailored to the domain of drone fleet management. This notebook aims to bridge the gap between theoretical knowledge and practical application, enabling you to leverage Python to solve complex problems in optimizing drone fleet operations.\n",
    "# Understanding Python Data Structures\n",
    "## Tuples and Drone Data\n",
    "Below we define a tuple for a drone, including `drone_id`, `type`, and `base_location`."
   ]
  },
  {
   "cell_type": "code",
   "execution_count": 2,
   "metadata": {},
   "outputs": [
    {
     "name": "stdout",
     "output_type": "stream",
     "text": [
      "The data for drone 1 is :  ('D001', 'Quadcopter', 'BaseA')\n",
      "Drone ID: D001\n",
      "Drone type:  Quadcopter\n",
      "Drone base location:  BaseA\n"
     ]
    }
   ],
   "source": [
    "# Live coding area for defining a drone tuple\n",
    "drone_1 = (\"D001\", \"Quadcopter\", \"BaseA\") # Example\n",
    "print(\"The data for drone 1 is : \", drone_1)\n",
    "print(\"Drone ID:\", drone_1[0])\n",
    "print(\"Drone type: \", drone_1[1])\n",
    "print(\"Drone base location: \", drone_1[2])"
   ]
  },
  {
   "cell_type": "markdown",
   "metadata": {},
   "source": [
    "We can also pass a list into the construstor to create a tuple."
   ]
  },
  {
   "cell_type": "code",
   "execution_count": 3,
   "metadata": {},
   "outputs": [
    {
     "name": "stdout",
     "output_type": "stream",
     "text": [
      "The data for drone 2 is :  ('D003', 'Quadcopter', 'BaseB')\n",
      "Drone ID: D003\n",
      "Drone type:  Quadcopter\n",
      "Drone base location:  BaseB\n"
     ]
    }
   ],
   "source": [
    "# Live coding area for defining a drone tuple\n",
    "drone_2 = tuple([\"D003\", \"Quadcopter\", \"BaseB\"]) # Example\n",
    "print(\"The data for drone 2 is : \", drone_2)\n",
    "print(\"Drone ID:\", drone_2[0])\n",
    "print(\"Drone type: \", drone_2[1])\n",
    "print(\"Drone base location: \", drone_2[2])"
   ]
  },
  {
   "cell_type": "markdown",
   "metadata": {},
   "source": [
    "Tuple can be unpacked into seperate varibles."
   ]
  },
  {
   "cell_type": "code",
   "execution_count": 4,
   "metadata": {},
   "outputs": [
    {
     "name": "stdout",
     "output_type": "stream",
     "text": [
      "0\n",
      "\t id: D001\n",
      "\t type: Quadcopter\n",
      "\t location: BaseA\n",
      "1\n",
      "\t id: D003\n",
      "\t type: Quadcopter\n",
      "\t location: BaseB\n"
     ]
    }
   ],
   "source": [
    "drones = [drone_1, drone_2]\n",
    "\n",
    "for i, drone in enumerate(drones):\n",
    "    print(i)\n",
    "    id, name, base = drone\n",
    "    print(\"\\t id:\", id)\n",
    "    print(\"\\t type:\", name)\n",
    "    print(\"\\t location:\", base)"
   ]
  },
  {
   "cell_type": "markdown",
   "metadata": {},
   "source": [
    "Some special cases of tuples are when tuples have 0 or 1 items."
   ]
  },
  {
   "cell_type": "markdown",
   "metadata": {},
   "source": [
    "empty = ()\n",
    "print(\"empty tuple\", empty)"
   ]
  },
  {
   "cell_type": "code",
   "execution_count": 5,
   "metadata": {},
   "outputs": [
    {
     "name": "stdout",
     "output_type": "stream",
     "text": [
      "singleton tuple: (('D003', 'Quadcopter', 'BaseB'),)\n"
     ]
    }
   ],
   "source": [
    "singleton_example = drone,\n",
    "print(\"singleton tuple:\", singleton_example)"
   ]
  },
  {
   "cell_type": "markdown",
   "metadata": {},
   "source": [
    "### Tuple Immutability\n",
    "- Let's try to modify one of the tuple's elements. How can fix the ID number on `drone_2` which should be \"D002\"."
   ]
  },
  {
   "cell_type": "code",
   "execution_count": 6,
   "metadata": {},
   "outputs": [
    {
     "ename": "TypeError",
     "evalue": "'tuple' object does not support item assignment",
     "output_type": "error",
     "traceback": [
      "\u001b[0;31m---------------------------------------------------------------------------\u001b[0m",
      "\u001b[0;31mTypeError\u001b[0m                                 Traceback (most recent call last)",
      "Cell \u001b[0;32mIn[6], line 1\u001b[0m\n\u001b[0;32m----> 1\u001b[0m \u001b[43mdrone_2\u001b[49m\u001b[43m[\u001b[49m\u001b[38;5;241;43m0\u001b[39;49m\u001b[43m]\u001b[49m \u001b[38;5;241m=\u001b[39m \u001b[38;5;124m\"\u001b[39m\u001b[38;5;124mD002\u001b[39m\u001b[38;5;124m\"\u001b[39m\n",
      "\u001b[0;31mTypeError\u001b[0m: 'tuple' object does not support item assignment"
     ]
    }
   ],
   "source": [
    "drone_2[0] = \"D002\""
   ]
  },
  {
   "cell_type": "code",
   "execution_count": 7,
   "metadata": {},
   "outputs": [
    {
     "name": "stdout",
     "output_type": "stream",
     "text": [
      "[('D001', 'Quadcopter', 'BaseA'), ('D002', 'Quadcopter', 'BaseB')]\n"
     ]
    }
   ],
   "source": [
    "drones[1]= drone_2 = (\"D002\", \"Quadcopter\", \"BaseB\")\n",
    "print(drones)"
   ]
  },
  {
   "cell_type": "markdown",
   "metadata": {},
   "source": [
    "### Discussion\n",
    "- Why are tuples suitable for storing data that shouldn't change?\n",
    "- How does tuple immutability affect data integrity?\n",
    "\n",
    "---\n",
    "## Sets for Unique Delivery Locations\n",
    "Below is a set of delivery locations in a list. Notice some locations are repeated."
   ]
  },
  {
   "cell_type": "code",
   "execution_count": 9,
   "metadata": {},
   "outputs": [
    {
     "name": "stdout",
     "output_type": "stream",
     "text": [
      "['LocationA', 'LocationB', 'LocationA', 'LocationC', 'LocationB', 'LocationD']\n"
     ]
    }
   ],
   "source": [
    "# Initial list of delivery locations, including duplicates\n",
    "delivery_locations_list = [\"LocationA\", \"LocationB\", \"LocationA\", \"LocationC\", \"LocationB\", \"LocationD\"]\n",
    "print(delivery_locations_list)"
   ]
  },
  {
   "cell_type": "markdown",
   "metadata": {},
   "source": [
    "### Unique Delivery Locations\n",
    "- Convert the list of delivery locations into a set to remove duplicates."
   ]
  },
  {
   "cell_type": "code",
   "execution_count": 10,
   "metadata": {},
   "outputs": [
    {
     "name": "stdout",
     "output_type": "stream",
     "text": [
      "Unique delivery locations: {'LocationB', 'LocationD', 'LocationC', 'LocationA'}\n",
      "Size of location set:  4\n"
     ]
    }
   ],
   "source": [
    "# Convert the list to a set to remove duplicates\n",
    "unique_delivery_locations = set(delivery_locations_list)\n",
    "print(\"Unique delivery locations:\", unique_delivery_locations)\n",
    "print(\"Size of location set: \", len(unique_delivery_locations))"
   ]
  },
  {
   "cell_type": "markdown",
   "metadata": {},
   "source": [
    "### Adding and removing elements from sets\n",
    "We can add items to a set:"
   ]
  },
  {
   "cell_type": "code",
   "execution_count": 11,
   "metadata": {},
   "outputs": [
    {
     "name": "stdout",
     "output_type": "stream",
     "text": [
      "After adding LocationE : {'LocationB', 'LocationC', 'LocationD', 'LocationA', 'LocationE'}\n",
      "Size of location set:  5\n"
     ]
    }
   ],
   "source": [
    "# Demonstrate adding a new delivery location\n",
    "new_location = \"LocationE\"\n",
    "unique_delivery_locations.add(new_location)\n",
    "print(\"After adding\", new_location, \":\", unique_delivery_locations)\n",
    "print(\"Size of location set: \", len(unique_delivery_locations))"
   ]
  },
  {
   "cell_type": "markdown",
   "metadata": {},
   "source": [
    "What about adding items that are already in the set?"
   ]
  },
  {
   "cell_type": "code",
   "execution_count": 12,
   "metadata": {},
   "outputs": [
    {
     "name": "stdout",
     "output_type": "stream",
     "text": [
      "After adding LocationA (duplicate): {'LocationB', 'LocationC', 'LocationD', 'LocationA', 'LocationE'}\n",
      "Size of location set:  5\n"
     ]
    }
   ],
   "source": [
    "# Demonstrate adding a new delivery location\n",
    "new_location = \"LocationA\"\n",
    "unique_delivery_locations.add(new_location)\n",
    "print(\"After adding\", new_location, \"(duplicate):\", unique_delivery_locations)\n",
    "print(\"Size of location set: \", len(unique_delivery_locations))"
   ]
  },
  {
   "cell_type": "code",
   "execution_count": 13,
   "metadata": {},
   "outputs": [
    {
     "name": "stdout",
     "output_type": "stream",
     "text": [
      "After removing LocationB : {'LocationC', 'LocationD', 'LocationA', 'LocationE'}\n",
      "Size of location set:  4\n"
     ]
    }
   ],
   "source": [
    "# Demonstrate removing an existing delivery location\n",
    "location_to_remove = \"LocationB\"\n",
    "unique_delivery_locations.remove(location_to_remove)\n",
    "print(\"After removing\", location_to_remove, \":\", unique_delivery_locations)\n",
    "print(\"Size of location set: \", len(unique_delivery_locations))"
   ]
  },
  {
   "cell_type": "markdown",
   "metadata": {},
   "source": [
    "Note: If you try to remove a location that does not exist in the set, Python will raise a KeyError."
   ]
  },
  {
   "cell_type": "markdown",
   "metadata": {},
   "source": [
    "# Demonstrate removing an non-existing delivery location\n",
    "location_to_remove = \"LocationB\"\n",
    "unique_delivery_locations.remove(location_to_remove)\n",
    "print(\"After removing\", location_to_remove, \":\", unique_delivery_locations)\n",
    "print(\"Size of location set: \", len(unique_delivery_locations))"
   ]
  },
  {
   "cell_type": "code",
   "execution_count": 14,
   "metadata": {},
   "outputs": [
    {
     "ename": "KeyError",
     "evalue": "'LocationB'",
     "output_type": "error",
     "traceback": [
      "\u001b[0;31m---------------------------------------------------------------------------\u001b[0m",
      "\u001b[0;31mKeyError\u001b[0m                                  Traceback (most recent call last)",
      "Cell \u001b[0;32mIn[14], line 3\u001b[0m\n\u001b[1;32m      1\u001b[0m \u001b[38;5;66;03m# Demonstrate removing an non-existing delivery location\u001b[39;00m\n\u001b[1;32m      2\u001b[0m location_to_remove \u001b[38;5;241m=\u001b[39m \u001b[38;5;124m\"\u001b[39m\u001b[38;5;124mLocationB\u001b[39m\u001b[38;5;124m\"\u001b[39m\n\u001b[0;32m----> 3\u001b[0m \u001b[43munique_delivery_locations\u001b[49m\u001b[38;5;241;43m.\u001b[39;49m\u001b[43mremove\u001b[49m\u001b[43m(\u001b[49m\u001b[43mlocation_to_remove\u001b[49m\u001b[43m)\u001b[49m\n\u001b[1;32m      4\u001b[0m \u001b[38;5;28mprint\u001b[39m(\u001b[38;5;124m\"\u001b[39m\u001b[38;5;124mAfter removing\u001b[39m\u001b[38;5;124m\"\u001b[39m, location_to_remove, \u001b[38;5;124m\"\u001b[39m\u001b[38;5;124m:\u001b[39m\u001b[38;5;124m\"\u001b[39m, unique_delivery_locations)\n\u001b[1;32m      5\u001b[0m \u001b[38;5;28mprint\u001b[39m(\u001b[38;5;124m\"\u001b[39m\u001b[38;5;124mSize of location set: \u001b[39m\u001b[38;5;124m\"\u001b[39m, \u001b[38;5;28mlen\u001b[39m(unique_delivery_locations))\n",
      "\u001b[0;31mKeyError\u001b[0m: 'LocationB'"
     ]
    }
   ],
   "source": [
    "# Demonstrate removing an non-existing delivery location\n",
    "location_to_remove = \"LocationB\"\n",
    "unique_delivery_locations.remove(location_to_remove)\n",
    "print(\"After removing\", location_to_remove, \":\", unique_delivery_locations)\n",
    "print(\"Size of location set: \", len(unique_delivery_locations))"
   ]
  },
  {
   "cell_type": "code",
   "execution_count": 15,
   "metadata": {},
   "outputs": [
    {
     "name": "stdout",
     "output_type": "stream",
     "text": [
      "After discarding LocationX (regardless of its presence): {'LocationC', 'LocationD', 'LocationA', 'LocationE'}\n"
     ]
    }
   ],
   "source": [
    "# To safely remove an item without raising an error if the item does not exist, use the discard method.\n",
    "location_to_discard = \"LocationX\"  # This location might not exist in the set\n",
    "unique_delivery_locations.discard(location_to_discard)\n",
    "print(\"After discarding\", location_to_discard, \"(regardless of its presence):\", unique_delivery_locations)"
   ]
  },
  {
   "cell_type": "markdown",
   "metadata": {},
   "source": [
    "### Set operations\n",
    "\n",
    "Now we need do use set operations to handle delivery related problems. \n",
    "- In our expansion efforrts, we just aquired another drone company, rop Shippers, that serves a different region than the one we serve. We want to integrate there location data in to ours. Luckily they also used sets to store location data"
   ]
  },
  {
   "cell_type": "code",
   "execution_count": 16,
   "metadata": {},
   "outputs": [
    {
     "name": "stdout",
     "output_type": "stream",
     "text": [
      "Drop Shipper's Location Set: {'LocationX', 'LocationY', 'LocationZ'}\n"
     ]
    }
   ],
   "source": [
    "drop_shippers_location = set([\"LocationX\", \"LocationY\", \"LocationZ\"])\n",
    "print(\"Drop Shipper's Location Set:\", drop_shippers_location)"
   ]
  },
  {
   "cell_type": "code",
   "execution_count": 17,
   "metadata": {},
   "outputs": [
    {
     "name": "stdout",
     "output_type": "stream",
     "text": [
      "The merged Location Set: {'LocationX', 'LocationY', 'LocationC', 'LocationA', 'LocationE', 'LocationD', 'LocationZ'}\n"
     ]
    }
   ],
   "source": [
    "merged_delivery_locations = unique_delivery_locations.union(drop_shippers_location)\n",
    "print(\"The merged Location Set:\", merged_delivery_locations)"
   ]
  },
  {
   "cell_type": "markdown",
   "metadata": {},
   "source": [
    "We just Learned that the FAA has just banned non-military air traffic in several locations."
   ]
  },
  {
   "cell_type": "code",
   "execution_count": 19,
   "metadata": {},
   "outputs": [
    {
     "name": "stdout",
     "output_type": "stream",
     "text": [
      "{'LocationM', 'LocationQ', 'LocationX', 'LocationA'}\n"
     ]
    }
   ],
   "source": [
    "restricted_locations = {\"LocationA\", \"LocationM\", \"LocationQ\", \"LocationX\"}\n",
    "print(restricted_locations)"
   ]
  },
  {
   "cell_type": "markdown",
   "metadata": {},
   "source": [
    "We need to find out if curently deliver to the locations."
   ]
  },
  {
   "cell_type": "code",
   "execution_count": 21,
   "metadata": {},
   "outputs": [
    {
     "name": "stdout",
     "output_type": "stream",
     "text": [
      "We are currently serving the following loactions in a restricted area {'LocationX', 'LocationA'}\n"
     ]
    }
   ],
   "source": [
    "served_restricted_locations = merged_delivery_locations.intersection(restricted_locations)\n",
    "print(\"We are currently serving the following loactions in a restricted area\", served_restricted_locations)"
   ]
  },
  {
   "cell_type": "markdown",
   "metadata": {},
   "source": [
    "Now we need to find the locations we can serve while remaining compliant."
   ]
  },
  {
   "cell_type": "code",
   "execution_count": 22,
   "metadata": {},
   "outputs": [
    {
     "name": "stdout",
     "output_type": "stream",
     "text": [
      "{'LocationC', 'LocationZ', 'LocationD', 'LocationE', 'LocationY'}\n"
     ]
    }
   ],
   "source": [
    "print(merged_delivery_locations - served_restricted_locations)"
   ]
  },
  {
   "cell_type": "markdown",
   "metadata": {},
   "source": [
    "### Reflection\n",
    "- Discuss the advantages of using sets for managing delivery locations.\n",
    "- How do sets compare to lists in terms of performance for membership tests?\n",
    "- In what scenarios might sets be preferred over lists?\n",
    "\n",
    "## Dictionaries for Organizing Drone Deliveries\n",
    "\n",
    "### Objective\n",
    "Employ dictionaries to map drones to their specific delivery information, enhancing data lookup efficiency.\n",
    "\n",
    "### Drone Delivery Dictionary\n",
    "Let's Create a dictionary with `drone` info tuples as keys and sets of unique delivery locations as values."
   ]
  },
  {
   "cell_type": "code",
   "execution_count": 23,
   "metadata": {},
   "outputs": [
    {
     "name": "stdout",
     "output_type": "stream",
     "text": [
      "Initial Drone Deliveries: {('D001', 'Quadcopter', 'BaseA'): {'LocationX', 'LocationY', 'LocationC', 'LocationA', 'LocationE', 'LocationD', 'LocationZ'}, ('D002', 'Quadcopter', 'BaseB'): {'LocationB', 'LocationD'}}\n"
     ]
    }
   ],
   "source": [
    "# Define a dictionary with drone_ids as keys and sets of unique delivery locations as values\n",
    "drone_deliveries = {\n",
    "    drone_1: merged_delivery_locations,\n",
    "    drone_2: {\"LocationB\", \"LocationD\"},\n",
    "}\n",
    "\n",
    "print(\"Initial Drone Deliveries:\", drone_deliveries)"
   ]
  },
  {
   "cell_type": "markdown",
   "metadata": {},
   "source": [
    "We can now efficiently look up drone delivery data:"
   ]
  },
  {
   "cell_type": "code",
   "execution_count": 24,
   "metadata": {},
   "outputs": [
    {
     "name": "stdout",
     "output_type": "stream",
     "text": [
      "Here is the information for ('D001', 'Quadcopter', 'BaseA'). It's delivery locations are: {'LocationX', 'LocationY', 'LocationC', 'LocationA', 'LocationE', 'LocationD', 'LocationZ'}\n"
     ]
    }
   ],
   "source": [
    "print(\"Here is the information for\", str(drone_1)+\".\", \"It's delivery locations are:\", drone_deliveries[drone_1])"
   ]
  },
  {
   "cell_type": "markdown",
   "metadata": {},
   "source": [
    "Next we will nee a function to add to our delivery dictionary."
   ]
  },
  {
   "cell_type": "code",
   "execution_count": 25,
   "metadata": {},
   "outputs": [],
   "source": [
    "# Function to add a new delivery location to a drone\n",
    "def add_delivery_location(drone, location):\n",
    "    # Check if the drone_id is already in the dictionary\n",
    "    if drone in drone_deliveries:\n",
    "        # Add the new location to the set of delivery locations\n",
    "        drone_deliveries[drone].add(location)\n",
    "    else:\n",
    "        # If the drone_id is not present, create a new set with the location\n",
    "        drone_deliveries[drone] = {location}\n",
    "    print(f\"After adding {location} to {drone}:\", drone_deliveries)\n",
    "\n",
    "# Function to remove a delivery location from a drone\n",
    "def remove_delivery_location(drone, location):\n",
    "    # Check if the drone is in the dictionary and the location is in the set\n",
    "    if drone in drone_deliveries and location in drone_deliveries[drone]:\n",
    "        drone_deliveries[drone].remove(location)\n",
    "        print(f\"After removing {location} from {drone}:\", drone_deliveries)\n",
    "    else:\n",
    "        print(f\"{location} not found in {drone}'s delivery locations.\")"
   ]
  },
  {
   "cell_type": "markdown",
   "metadata": {},
   "source": [
    "Now we can use our dictionary effieciently to update drones with proper delivery locations."
   ]
  },
  {
   "cell_type": "code",
   "execution_count": 26,
   "metadata": {},
   "outputs": [
    {
     "name": "stdout",
     "output_type": "stream",
     "text": [
      "After adding LocationE to ('D001', 'Quadcopter', 'BaseA'): {('D001', 'Quadcopter', 'BaseA'): {'LocationX', 'LocationY', 'LocationC', 'LocationA', 'LocationE', 'LocationD', 'LocationZ'}, ('D002', 'Quadcopter', 'BaseB'): {'LocationB', 'LocationD'}}\n"
     ]
    }
   ],
   "source": [
    "# Adding a new delivery location\n",
    "add_delivery_location(drone_1, \"LocationE\")"
   ]
  },
  {
   "cell_type": "code",
   "execution_count": 27,
   "metadata": {},
   "outputs": [
    {
     "name": "stdout",
     "output_type": "stream",
     "text": [
      "After removing LocationB from ('D002', 'Quadcopter', 'BaseB'): {('D001', 'Quadcopter', 'BaseA'): {'LocationX', 'LocationY', 'LocationC', 'LocationA', 'LocationE', 'LocationD', 'LocationZ'}, ('D002', 'Quadcopter', 'BaseB'): {'LocationD'}}\n"
     ]
    }
   ],
   "source": [
    "# Removing an existing delivery location\n",
    "remove_delivery_location(drone_2, \"LocationB\")"
   ]
  },
  {
   "cell_type": "code",
   "execution_count": 28,
   "metadata": {},
   "outputs": [
    {
     "name": "stdout",
     "output_type": "stream",
     "text": [
      "After adding LocationF to ('D003', 'biplane', 'BaseQ'): {('D001', 'Quadcopter', 'BaseA'): {'LocationX', 'LocationY', 'LocationC', 'LocationA', 'LocationE', 'LocationD', 'LocationZ'}, ('D002', 'Quadcopter', 'BaseB'): {'LocationD'}, ('D003', 'biplane', 'BaseQ'): {'LocationF'}}\n"
     ]
    }
   ],
   "source": [
    "# Attempting to add a delivery location to a new drone_id\n",
    "drone_3 = (\"D003\", \"biplane\", \"BaseQ\")\n",
    "add_delivery_location(drone_3, \"LocationF\")"
   ]
  },
  {
   "cell_type": "code",
   "execution_count": 29,
   "metadata": {},
   "outputs": [
    {
     "name": "stdout",
     "output_type": "stream",
     "text": [
      "After removing LocationX from ('D001', 'Quadcopter', 'BaseA'): {('D001', 'Quadcopter', 'BaseA'): {'LocationY', 'LocationC', 'LocationA', 'LocationE', 'LocationD', 'LocationZ'}, ('D002', 'Quadcopter', 'BaseB'): {'LocationD'}, ('D003', 'biplane', 'BaseQ'): {'LocationF'}}\n"
     ]
    }
   ],
   "source": [
    "# Attempting to remove a non-existing location\n",
    "remove_delivery_location(drone_1, \"LocationX\")"
   ]
  },
  {
   "cell_type": "markdown",
   "metadata": {},
   "source": [
    "We can see a list of the drones or keys in our dictionary."
   ]
  },
  {
   "cell_type": "code",
   "execution_count": 30,
   "metadata": {},
   "outputs": [
    {
     "name": "stdout",
     "output_type": "stream",
     "text": [
      "dict_keys([('D001', 'Quadcopter', 'BaseA'), ('D002', 'Quadcopter', 'BaseB'), ('D003', 'biplane', 'BaseQ')])\n"
     ]
    }
   ],
   "source": [
    "print(drone_deliveries.keys())"
   ]
  },
  {
   "cell_type": "code",
   "execution_count": 31,
   "metadata": {},
   "outputs": [
    {
     "name": "stdout",
     "output_type": "stream",
     "text": [
      "[('D001', 'Quadcopter', 'BaseA'), ('D002', 'Quadcopter', 'BaseB'), ('D003', 'biplane', 'BaseQ')]\n"
     ]
    }
   ],
   "source": [
    "print(list(drone_deliveries))"
   ]
  },
  {
   "cell_type": "code",
   "execution_count": 32,
   "metadata": {},
   "outputs": [
    {
     "name": "stdout",
     "output_type": "stream",
     "text": [
      "[('D001', 'Quadcopter', 'BaseA'), ('D002', 'Quadcopter', 'BaseB'), ('D003', 'biplane', 'BaseQ')]\n"
     ]
    }
   ],
   "source": [
    "print(sorted(drone_deliveries))"
   ]
  },
  {
   "cell_type": "markdown",
   "metadata": {},
   "source": [
    "We can also create a list of tuples from a dictionary. This is especially useful for iteration."
   ]
  },
  {
   "cell_type": "code",
   "execution_count": 33,
   "metadata": {},
   "outputs": [
    {
     "data": {
      "text/plain": [
       "dict_items([(('D001', 'Quadcopter', 'BaseA'), {'LocationY', 'LocationC', 'LocationA', 'LocationE', 'LocationD', 'LocationZ'}), (('D002', 'Quadcopter', 'BaseB'), {'LocationD'}), (('D003', 'biplane', 'BaseQ'), {'LocationF'})])"
      ]
     },
     "execution_count": 33,
     "metadata": {},
     "output_type": "execute_result"
    }
   ],
   "source": [
    "drone_deliveries.items()"
   ]
  },
  {
   "cell_type": "markdown",
   "metadata": {},
   "source": [
    "drone_deliveries.items()"
   ]
  },
  {
   "cell_type": "markdown",
   "metadata": {},
   "source": [
    "We can also delete dictionary entries."
   ]
  },
  {
   "cell_type": "code",
   "execution_count": 34,
   "metadata": {},
   "outputs": [
    {
     "name": "stdout",
     "output_type": "stream",
     "text": [
      "{('D001', 'Quadcopter', 'BaseA'): {'LocationY', 'LocationC', 'LocationA', 'LocationE', 'LocationD', 'LocationZ'}, ('D002', 'Quadcopter', 'BaseB'): {'LocationD'}}\n"
     ]
    }
   ],
   "source": [
    "del drone_deliveries[drone_3]\n",
    "\n",
    "print(drone_deliveries)"
   ]
  },
  {
   "cell_type": "markdown",
   "metadata": {},
   "source": [
    "### Reflection\n",
    "- Analyze how dictionaries facilitate efficient data lookup and management.\n",
    "### Discussion\n",
    "- Consider the impact of using dictionaries on data retrieval times.\n",
    "- How do dictionaries support the organization of complex data structures?\n",
    "---\n",
    "# Leveraging Functional Programming"
   ]
  },
  {
   "cell_type": "code",
   "execution_count": 35,
   "metadata": {},
   "outputs": [],
   "source": [
    "from functools import reduce"
   ]
  },
  {
   "cell_type": "markdown",
   "metadata": {},
   "source": [
    "## Mapping Delivery Data\n",
    "### Convert Delivery Metrics\n",
    "Our instruments measure distance in kilometers and time in hours. However our Machine Learning model was trained using data in miles and minutes. We need to convert this data to miles and minutes."
   ]
  },
  {
   "cell_type": "code",
   "execution_count": 36,
   "metadata": {},
   "outputs": [
    {
     "name": "stdout",
     "output_type": "stream",
     "text": [
      "Delivery Data: [(10, 0.5), (15, 0.75), (7, 0.33)]\n"
     ]
    }
   ],
   "source": [
    "# Example delivery data (distance in kilometers, time in hours)\n",
    "delivery_data = [(10, 0.5), (15, 0.75), (7, 0.33)]\n",
    "print(\"Delivery Data:\", delivery_data)"
   ]
  },
  {
   "cell_type": "code",
   "execution_count": 37,
   "metadata": {},
   "outputs": [
    {
     "name": "stdout",
     "output_type": "stream",
     "text": [
      "1.609 km is 0.999785939 mile\n",
      "1 hour is 60 minutes\n"
     ]
    }
   ],
   "source": [
    "# Convert distances to miles (1 km = 0.621371 miles) and times to minutes (1 hour = 60 minutes)\n",
    "distance_to_miles = lambda km: km * 0.621371\n",
    "time_to_minutes = lambda hours: hours * 60\n",
    "\n",
    "print(\"1.609 km is\", distance_to_miles(1.609), \"mile\")\n",
    "print(\"1 hour is\", time_to_minutes(1), \"minutes\")"
   ]
  },
  {
   "cell_type": "code",
   "execution_count": 38,
   "metadata": {},
   "outputs": [
    {
     "name": "stdout",
     "output_type": "stream",
     "text": [
      "Original Delivery Data: [(10, 0.5), (15, 0.75), (7, 0.33)]\n",
      "Tranformed Delivery Data: [(6.21371, 30.0), (9.320565, 45.0), (4.349597, 19.8)]\n"
     ]
    }
   ],
   "source": [
    "# Using map to apply conversions\n",
    "miles = map(lambda x: distance_to_miles(x[0]), delivery_data)\n",
    "minutes = map(lambda x: time_to_minutes(x[1]), delivery_data)\n",
    "\n",
    "tranformed_delivery_data = list(zip(miles, minutes))\n",
    "\n",
    "print(\"Original Delivery Data:\", delivery_data)\n",
    "print(\"Tranformed Delivery Data:\", tranformed_delivery_data)"
   ]
  },
  {
   "cell_type": "markdown",
   "metadata": {},
   "source": [
    "### Reflection\n",
    "- Evaluate the utility of map in processing collections of data.\n",
    "- Discuss how map streamlines the conversion process for each element in the delivery_data list."
   ]
  },
  {
   "cell_type": "markdown",
   "metadata": {},
   "source": [
    "## Filtering Efficient Deliveries\n",
    "\n",
    "### Filter for Efficiency\n",
    "\n",
    "We want to find all the deliverys that can be delivered in 40 minutes or less."
   ]
  },
  {
   "cell_type": "code",
   "execution_count": 39,
   "metadata": {},
   "outputs": [
    {
     "name": "stdout",
     "output_type": "stream",
     "text": [
      "Efficient Deliveries (under 40 minutes): [(6.21371, 30.0), (4.349597, 19.8)]\n"
     ]
    }
   ],
   "source": [
    "# Define a threshold for efficient delivery (e.g., delivery time under 40 minutes)\n",
    "efficient_threshold = 40\n",
    "\n",
    "# Filtering deliveries that are completed under the threshold\n",
    "efficient_deliveries = list(filter(lambda x: x[1] <= efficient_threshold, tranformed_delivery_data))\n",
    "\n",
    "print(\"Efficient Deliveries (under 40 minutes):\", efficient_deliveries)"
   ]
  },
  {
   "cell_type": "markdown",
   "metadata": {},
   "source": [
    "### Reflection\n",
    "- Discuss how filter can refine data sets based on given conditions and its benefits in data processing.\n",
    "## Reducing to Determine Efficiency\n",
    "### Calculate Most Efficient Drone"
   ]
  },
  {
   "cell_type": "code",
   "execution_count": 40,
   "metadata": {},
   "outputs": [
    {
     "name": "stdout",
     "output_type": "stream",
     "text": [
      "[('D001', 6.21, 30), ('D002', 9.32, 45), ('D001', 5.5, 25)]\n"
     ]
    }
   ],
   "source": [
    "# Assuming each tuple in delivery_data now includes a drone_id, distance in miles, and time in minutes\n",
    "# For simplicity, consider distance and time are already in the desired units\n",
    "enhanced_delivery_data = [(\"D001\", 6.21, 30), (\"D002\", 9.32, 45), (\"D001\", 5.5, 25)]\n",
    "print(enhanced_delivery_data)"
   ]
  },
  {
   "cell_type": "code",
   "execution_count": 41,
   "metadata": {},
   "outputs": [
    {
     "name": "stdout",
     "output_type": "stream",
     "text": [
      "{'D001': {'total_distance': 11.71, 'total_time': 55}, 'D002': {'total_distance': 9.32, 'total_time': 45}}\n"
     ]
    }
   ],
   "source": [
    "# Group data by drone\n",
    "drone_deliveries = {}\n",
    "for data in enhanced_delivery_data:\n",
    "    drone_id, distance, time = data\n",
    "    if drone_id not in drone_deliveries:\n",
    "        drone_deliveries[drone_id] = {\"total_distance\": 0, \"total_time\": 0}\n",
    "    drone_deliveries[drone_id][\"total_distance\"] += distance\n",
    "    drone_deliveries[drone_id][\"total_time\"] += time\n",
    "\n",
    "print(drone_deliveries)"
   ]
  },
  {
   "cell_type": "code",
   "execution_count": 42,
   "metadata": {},
   "outputs": [
    {
     "name": "stdout",
     "output_type": "stream",
     "text": [
      "{'D001': 0.21290909090909094, 'D002': 0.2071111111111111}\n"
     ]
    }
   ],
   "source": [
    "# Calculate efficiency as total distance / total time for each drone\n",
    "efficiency = {drone: details[\"total_distance\"] / details[\"total_time\"] for drone, details in drone_deliveries.items()}\n",
    "print(efficiency)"
   ]
  },
  {
   "cell_type": "code",
   "execution_count": 43,
   "metadata": {},
   "outputs": [],
   "source": [
    "from functools import reduce"
   ]
  },
  {
   "cell_type": "code",
   "execution_count": 44,
   "metadata": {},
   "outputs": [
    {
     "name": "stdout",
     "output_type": "stream",
     "text": [
      "Most Efficient Drone: ('D001', 0.21290909090909094)\n"
     ]
    }
   ],
   "source": [
    "# Use reduce to find the most efficient drone\n",
    "most_efficient_drone = reduce(lambda x, y: x if x[1] > y[1] else y, efficiency.items())\n",
    "print(\"Most Efficient Drone:\", most_efficient_drone)"
   ]
  },
  {
   "cell_type": "markdown",
   "metadata": {},
   "source": [
    "### Reflection\n",
    "- Reflect on the power of reduce in summarizing data into meaningful insights.\n",
    "- Discuss how this approach can be applied to optimize operational efficiency in a fleet.\n",
    "\n",
    "---"
   ]
  },
  {
   "cell_type": "markdown",
   "metadata": {},
   "source": [
    "# Analysis: Optimizing Drone Fleet Efficiency\n",
    "\n",
    "In this challenge, you'll apply everything you've learned about Python data structures and functional programming to analyze and optimize the operational efficiency of a drone fleet. You will work with a dataset representing various drone deliveries, aiming to identify patterns, inefficiencies, and areas for improvement.\n",
    "\n",
    "## Dataset Preparation\n",
    "Assume a dataset of drone deliveries, each entry containing: drone_id, delivery_distance (miles), delivery_time (minutes)"
   ]
  },
  {
   "cell_type": "code",
   "execution_count": 46,
   "metadata": {},
   "outputs": [
    {
     "name": "stdout",
     "output_type": "stream",
     "text": [
      "[('D001', 10, 30), ('D002', 15, 45), ('D003', 7, 25), ('D001', 8, 35), ('D002', 11, 55), ('D003', 9, 28)]\n"
     ]
    }
   ],
   "source": [
    "drone_deliveries = [\n",
    "    (\"D001\", 10, 30), (\"D002\", 15, 45), (\"D003\", 7, 25),\n",
    "    (\"D001\", 8, 35), (\"D002\", 11, 55), (\"D003\", 9, 28),\n",
    "    # Add more entries as needed\n",
    "]\n",
    "print(drone_deliveries)"
   ]
  },
  {
   "cell_type": "markdown",
   "metadata": {},
   "source": [
    "## Fleet Optimization Analysis\n",
    "Organize Data by Drone\n",
    "Organize the deliveries into a dictionary with drone_ids as keys and lists of (distance, time) tuples as values."
   ]
  },
  {
   "cell_type": "code",
   "execution_count": 47,
   "metadata": {},
   "outputs": [
    {
     "name": "stdout",
     "output_type": "stream",
     "text": [
      "{'D001': [(10, 30), (8, 35)], 'D002': [(15, 45), (11, 55)], 'D003': [(7, 25), (9, 28)]}\n"
     ]
    }
   ],
   "source": [
    "# Initialize an empty dictionary for organizing deliveries by drone\n",
    "deliveries_by_drone = {}\n",
    "\n",
    "# Use a loop or a functional programming technique to populate the dictionary\n",
    "for drone_id, distance, time in drone_deliveries:\n",
    "    if drone_id not in deliveries_by_drone:\n",
    "        deliveries_by_drone[drone_id] = []\n",
    "    deliveries_by_drone[drone_id].append((distance, time))\n",
    "\n",
    "print(deliveries_by_drone)"
   ]
  },
  {
   "cell_type": "markdown",
   "metadata": {},
   "source": [
    "### Analyze Efficiency\n",
    "For each drone, calculate the total delivery distance, total delivery time, and overall efficiency (distance/time)."
   ]
  },
  {
   "cell_type": "code",
   "execution_count": 51,
   "metadata": {},
   "outputs": [
    {
     "name": "stdout",
     "output_type": "stream",
     "text": [
      "{'D001': {'Total Distance': 18, 'Total Time': 65, 'Efficiency': 0.27692307692307694}, 'D002': {'Total Distance': 26, 'Total Time': 100, 'Efficiency': 0.26}, 'D003': {'Total Distance': 16, 'Total Time': 53, 'Efficiency': 0.3018867924528302}}\n"
     ]
    }
   ],
   "source": [
    "# Initialize an empty dictionary to store analysis results\n",
    "drone_efficiency_analysis = {}\n",
    "\n",
    "# Calculate the metrics for each drone and store them in the dictionary\n",
    "for drone_id, deliveries in deliveries_by_drone.items():\n",
    "    total_distance = sum([delivery[0] for delivery in deliveries])\n",
    "    total_time = sum([delivery[1] for delivery in deliveries])\n",
    "    efficiency = total_distance / total_time if total_time > 0 else 0\n",
    "    drone_efficiency_analysis[drone_id] = {\"Total Distance\": total_distance, \"Total Time\": total_time, \"Efficiency\": efficiency}\n",
    "print(drone_efficiency_analysis)"
   ]
  },
  {
   "cell_type": "markdown",
   "metadata": {},
   "source": [
    "### Identify Optimization Opportunities\n",
    "Based on the efficiency analysis, identify which drones are underperforming and suggest potential reasons and improvements.\n",
    "\n",
    "Use functional programming techniques (filter, map, reduce) to analyze the efficiency data\n",
    "Hint: You might want to filter drones by efficiency, map improvements, or reduce data to identify patterns."
   ]
  },
  {
   "cell_type": "code",
   "execution_count": 49,
   "metadata": {},
   "outputs": [
    {
     "name": "stdout",
     "output_type": "stream",
     "text": [
      "Least Efficient Drone: ('D002', {'Total Distance': 26, 'Total Time': 100, 'Efficiency': 0.26})\n"
     ]
    }
   ],
   "source": [
    "# Example: Finding the least efficient drone\n",
    "least_efficient_drone = min(drone_efficiency_analysis.items(), key=lambda x: x[1][\"Efficiency\"])\n",
    "print(\"Least Efficient Drone:\", least_efficient_drone)"
   ]
  },
  {
   "cell_type": "code",
   "execution_count": 50,
   "metadata": {},
   "outputs": [],
   "source": [
    "# Your turn: Analyze the data to find potential reasons for inefficiencies and suggest improvements\n",
    "# "
   ]
  },
  {
   "cell_type": "markdown",
   "metadata": {},
   "source": [
    "### Reflection and Proposal\n",
    "- Reflect on how the analysis could inform decisions on optimizing drone fleet operations.\n",
    "- Propose a strategy for reallocating deliveries among drones or adjusting routes to improve overall efficiency.\n",
    "\n",
    "- Your turn: Write a brief reflection on the analysis and propose a strategy for fleet optimization"
   ]
  }
 ],
 "metadata": {
  "kernelspec": {
   "display_name": "Python 3",
   "language": "python",
   "name": "python3"
  },
  "language_info": {
   "codemirror_mode": {
    "name": "ipython",
    "version": 3
   },
   "file_extension": ".py",
   "mimetype": "text/x-python",
   "name": "python",
   "nbconvert_exporter": "python",
   "pygments_lexer": "ipython3",
   "version": "3.10.13"
  }
 },
 "nbformat": 4,
 "nbformat_minor": 2
}
